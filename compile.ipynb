{
 "cells": [
  {
   "cell_type": "code",
   "execution_count": 1,
   "id": "b327ad96-2e7c-46e4-aee8-015554bed7f4",
   "metadata": {},
   "outputs": [],
   "source": [
    "import torch\n",
    "from torch.utils.benchmark import Compare, Fuzzer, FuzzedParameter, FuzzedTensor, ParameterAlias, Timer\n",
    "\n",
    "from binarize import su"
   ]
  },
  {
   "cell_type": "code",
   "execution_count": 2,
   "id": "41a38133-ceb7-45dd-8b57-7f3a254a4762",
   "metadata": {},
   "outputs": [],
   "source": [
    "opt_su = torch.compile(su, mode=\"reduce-overhead\")"
   ]
  },
  {
   "cell_type": "code",
   "execution_count": 3,
   "id": "e4ae3524-0f2e-4aad-aa8a-3bd3fc01b251",
   "metadata": {},
   "outputs": [],
   "source": [
    "img_fuzzer = Fuzzer(\n",
    "    parameters = [\n",
    "        FuzzedParameter(\"h\", minval=1, maxval=10000, distribution='loguniform'),\n",
    "        FuzzedParameter(\"w\", minval=1, maxval=10000, distribution='loguniform'),\n",
    "    ],\n",
    "    tensors = [\n",
    "        FuzzedTensor(\"img\", size=(1, \"h\", \"w\"), probability_contiguous=1, cuda=True)\n",
    "    ],\n",
    "    seed=0,\n",
    ")"
   ]
  },
  {
   "cell_type": "code",
   "execution_count": 6,
   "id": "f0cda2ad-bf99-4f9a-88bd-f93c9e1be6ff",
   "metadata": {},
   "outputs": [],
   "source": [
    "measurements = []\n",
    "for tensors, _, _ in img_fuzzer.take(10):\n",
    "    measurement = Timer(\n",
    "        stmt=\"su(img)\",\n",
    "        setup=\"from __main__ import su\",\n",
    "        globals=tensors,\n",
    "        label=\"su\",\n",
    "        description=\"vanilla\",\n",
    "    ).blocked_autorange(min_run_time=1)\n",
    "    opt_measurement = Timer(\n",
    "        stmt=\"opt_su(img)\",\n",
    "        setup=\"from __main__ import opt_su\",\n",
    "        globals=tensors,\n",
    "        label=\"su\",\n",
    "        description=\"compile\",\n",
    "    ).blocked_autorange(min_run_time=1)\n",
    "    measurements.extend([measurement, opt_measurement])"
   ]
  },
  {
   "cell_type": "code",
   "execution_count": 7,
   "id": "622e9dd5-998c-42a0-b73f-822e92467e2d",
   "metadata": {},
   "outputs": [
    {
     "name": "stdout",
     "output_type": "stream",
     "text": [
      "[------------------ su -----------------]\n",
      "                   |  vanilla  |  compile\n",
      "1 threads: ------------------------------\n",
      "      su(img)      |    74.3   |         \n",
      "      opt_su(img)  |           |    72.4 \n",
      "\n",
      "Times are in milliseconds (ms).\n",
      "\n"
     ]
    }
   ],
   "source": [
    "compare = Compare(measurements)\n",
    "compare.print()"
   ]
  },
  {
   "cell_type": "code",
   "execution_count": null,
   "id": "4b45b565-1fe3-4873-ac52-dd91eb8ef68d",
   "metadata": {},
   "outputs": [],
   "source": []
  }
 ],
 "metadata": {
  "kernelspec": {
   "display_name": "Python 3 (ipykernel)",
   "language": "python",
   "name": "python3"
  },
  "language_info": {
   "codemirror_mode": {
    "name": "ipython",
    "version": 3
   },
   "file_extension": ".py",
   "mimetype": "text/x-python",
   "name": "python",
   "nbconvert_exporter": "python",
   "pygments_lexer": "ipython3",
   "version": "3.9.18"
  }
 },
 "nbformat": 4,
 "nbformat_minor": 5
}
